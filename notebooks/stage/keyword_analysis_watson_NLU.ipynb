{
 "cells": [
  {
   "cell_type": "markdown",
   "metadata": {},
   "source": [
    "# Keyword Analysis on Fedora Mailing List using Watson NLU\n",
    "\n",
    "This notebook demonstrates analyzing the Fedora mailing list using Watson Natural Language Understanding - using default models.\n",
    "\n",
    "This is based on the Watson Discovery Tutorial at https://github.com/spackows/CASCON-2019_NLP-workshops/blob/master/notebooks/Notebook-1_Exploring-NLU.ipynb"
   ]
  },
  {
   "cell_type": "code",
   "execution_count": 137,
   "metadata": {
    "ExecuteTime": {
     "end_time": "2021-02-22T18:52:41.523041Z",
     "start_time": "2021-02-22T18:52:41.517458Z"
    }
   },
   "outputs": [],
   "source": [
    "import json\n",
    "import pandas as pd\n",
    "import numpy as np\n",
    "import glob\n",
    "import itertools\n",
    "import re\n",
    "import os\n",
    "import gc\n",
    "from src import utils\n",
    "import datetime\n",
    "from collections import Counter\n",
    "from collections import defaultdict\n",
    "\n",
    "from ibm_cloud_sdk_core.authenticators import IAMAuthenticator\n",
    "from ibm_watson import NaturalLanguageUnderstandingV1\n",
    "from ibm_watson.natural_language_understanding_v1 import Features, ConceptsOptions, EmotionOptions, EntitiesOptions, KeywordsOptions, SemanticRolesOptions, SentimentOptions, CategoriesOptions, SyntaxOptions, SyntaxOptionsTokens"
   ]
  },
  {
   "cell_type": "code",
   "execution_count": 115,
   "metadata": {
    "ExecuteTime": {
     "end_time": "2021-02-22T16:24:51.638440Z",
     "start_time": "2021-02-22T16:24:51.635656Z"
    }
   },
   "outputs": [],
   "source": [
    "BASE_PATH = os.getenv(\"LOCAL_DATA_PATH\", \"../../data\")"
   ]
  },
  {
   "cell_type": "markdown",
   "metadata": {},
   "source": [
    "## Step 1: Look up Natural Language Understanding API key and URL\n",
    "\n",
    "1. From the **Navigation menu** ( <img style=\"margin: 0px; padding: 0px; display: inline;\" src=\"https://github.com/spackows/CASCON-2019_NLP-workshops/raw/master/images/nav-menu-icon.png\"/> ), under the **Services** group, right-click \"Watson Services\" and then open the link in a new browser tab\n",
    "2. In the new Watson services tab, from the **Action** menu beside your Natural Language Understanding instance, select \"Manage in IBM Cloud\"\n",
    "3. In the service details page that opens, copy the apikey and URL"
   ]
  },
  {
   "cell_type": "code",
   "execution_count": 2,
   "metadata": {
    "ExecuteTime": {
     "end_time": "2021-02-22T19:52:46.195161Z",
     "start_time": "2021-02-22T19:52:46.192146Z"
    }
   },
   "outputs": [],
   "source": [
    "apikey = '' #<-- PASTE YOUR APIKEY HERE\n",
    "url    = '' #<-- PASTE YOUR SERVICE URL HERE"
   ]
  },
  {
   "cell_type": "markdown",
   "metadata": {},
   "source": [
    "The NLU API can be used to extract:\n",
    "- Sentiment\n",
    "- Emotion\n",
    "- Keywords\n",
    "- Entities\n",
    "- Categories\n",
    "- Concepts\n",
    "- Syntax\n",
    "- Semantics"
   ]
  },
  {
   "cell_type": "code",
   "execution_count": 117,
   "metadata": {
    "ExecuteTime": {
     "end_time": "2021-02-22T16:24:53.615759Z",
     "start_time": "2021-02-22T16:24:53.611659Z"
    }
   },
   "outputs": [],
   "source": [
    "# Instantiate a natural language understanding object\n",
    "authenticator = IAMAuthenticator( apikey )\n",
    "nlu = NaturalLanguageUnderstandingV1( version='2018-11-16', authenticator=authenticator )\n",
    "nlu.set_service_url( url )"
   ]
  },
  {
   "cell_type": "markdown",
   "metadata": {},
   "source": [
    "## Step 2: Import Fedora Email List"
   ]
  },
  {
   "cell_type": "code",
   "execution_count": 118,
   "metadata": {
    "ExecuteTime": {
     "end_time": "2021-02-22T16:24:55.261302Z",
     "start_time": "2021-02-22T16:24:54.415032Z"
    }
   },
   "outputs": [
    {
     "data": {
      "text/html": [
       "<div>\n",
       "<style scoped>\n",
       "    .dataframe tbody tr th:only-of-type {\n",
       "        vertical-align: middle;\n",
       "    }\n",
       "\n",
       "    .dataframe tbody tr th {\n",
       "        vertical-align: top;\n",
       "    }\n",
       "\n",
       "    .dataframe thead th {\n",
       "        text-align: right;\n",
       "    }\n",
       "</style>\n",
       "<table border=\"1\" class=\"dataframe\">\n",
       "  <thead>\n",
       "    <tr style=\"text-align: right;\">\n",
       "      <th></th>\n",
       "      <th>Message-ID</th>\n",
       "      <th>Date</th>\n",
       "      <th>Body</th>\n",
       "    </tr>\n",
       "  </thead>\n",
       "  <tbody>\n",
       "    <tr>\n",
       "      <th>0</th>\n",
       "      <td>&lt;681b9b44-e961-1fa8-3708-1ff5b76dff3d@arm.com&gt;</td>\n",
       "      <td>Wed, 31 Jan 2018 19:34:24 -0600</td>\n",
       "      <td>['On 01/31/2018 09:49 AM, J. Bruce Fields wrot...</td>\n",
       "    </tr>\n",
       "    <tr>\n",
       "      <th>1</th>\n",
       "      <td>&lt;20180201014242.GB17460@jelly&gt;</td>\n",
       "      <td>Thu, 01 Feb 2018 11:42:42 +1000</td>\n",
       "      <td>['On Wed, Jan 31, 2018 at 10:18:14PM +0000, To...</td>\n",
       "    </tr>\n",
       "    <tr>\n",
       "      <th>2</th>\n",
       "      <td>&lt;CABB28CzbBUA6WCs5t9ee4g=CecCJ+hOm8tey4W7RsyRG...</td>\n",
       "      <td>Thu, 01 Feb 2018 02:13:41 +0000</td>\n",
       "      <td>['On 1 February 2018 at 01:42, Peter Hutterer ...</td>\n",
       "    </tr>\n",
       "    <tr>\n",
       "      <th>3</th>\n",
       "      <td>&lt;CABB28Cz13c0Z_y2j54RDMoOXdLAU19pxE1++xZWfVX76...</td>\n",
       "      <td>Thu, 01 Feb 2018 04:48:50 +0000</td>\n",
       "      <td>['Hi,\\n\\nJust applied all recent updates and s...</td>\n",
       "    </tr>\n",
       "    <tr>\n",
       "      <th>4</th>\n",
       "      <td>&lt;CABbDtLqovkBOBw2YM+4kP1pTG7Na4DPZj6ZGojrj9snh...</td>\n",
       "      <td>Thu, 01 Feb 2018 10:59:36 +0530</td>\n",
       "      <td>[\"On Wed, Jan 31, 2018 at 11:56 PM, Josh Boyer...</td>\n",
       "    </tr>\n",
       "  </tbody>\n",
       "</table>\n",
       "</div>"
      ],
      "text/plain": [
       "                                          Message-ID  \\\n",
       "0     <681b9b44-e961-1fa8-3708-1ff5b76dff3d@arm.com>   \n",
       "1                     <20180201014242.GB17460@jelly>   \n",
       "2  <CABB28CzbBUA6WCs5t9ee4g=CecCJ+hOm8tey4W7RsyRG...   \n",
       "3  <CABB28Cz13c0Z_y2j54RDMoOXdLAU19pxE1++xZWfVX76...   \n",
       "4  <CABbDtLqovkBOBw2YM+4kP1pTG7Na4DPZj6ZGojrj9snh...   \n",
       "\n",
       "                              Date  \\\n",
       "0  Wed, 31 Jan 2018 19:34:24 -0600   \n",
       "1  Thu, 01 Feb 2018 11:42:42 +1000   \n",
       "2  Thu, 01 Feb 2018 02:13:41 +0000   \n",
       "3  Thu, 01 Feb 2018 04:48:50 +0000   \n",
       "4  Thu, 01 Feb 2018 10:59:36 +0530   \n",
       "\n",
       "                                                Body  \n",
       "0  ['On 01/31/2018 09:49 AM, J. Bruce Fields wrot...  \n",
       "1  ['On Wed, Jan 31, 2018 at 10:18:14PM +0000, To...  \n",
       "2  ['On 1 February 2018 at 01:42, Peter Hutterer ...  \n",
       "3  ['Hi,\\n\\nJust applied all recent updates and s...  \n",
       "4  [\"On Wed, Jan 31, 2018 at 11:56 PM, Josh Boyer...  "
      ]
     },
     "execution_count": 118,
     "metadata": {},
     "output_type": "execute_result"
    }
   ],
   "source": [
    "df = utils.load_dataset(f\"{BASE_PATH}/interim/text/\")\n",
    "df.head()"
   ]
  },
  {
   "cell_type": "code",
   "execution_count": 119,
   "metadata": {
    "ExecuteTime": {
     "end_time": "2021-02-22T16:24:55.265950Z",
     "start_time": "2021-02-22T16:24:55.263316Z"
    }
   },
   "outputs": [],
   "source": [
    "df = df[150:200]"
   ]
  },
  {
   "cell_type": "markdown",
   "metadata": {},
   "source": [
    "Only taking a small sample of the dataframe due to 2 reasons:\n",
    "* On the Free IBM Watson Account, we are allowed only a limited number of queries\n",
    "* Some emails have code and other unclean text which all cause the following watson_analyze() function to throw an error\n",
    "\n",
    "#TODO: Import data cleaning scripts from auto-faq project to overcome above error"
   ]
  },
  {
   "cell_type": "code",
   "execution_count": 120,
   "metadata": {
    "ExecuteTime": {
     "end_time": "2021-02-22T16:24:55.291987Z",
     "start_time": "2021-02-22T16:24:55.268158Z"
    }
   },
   "outputs": [],
   "source": [
    "# Cleaning function to be separated from this nb as a part of https://github.com/aicoe-aiops/mailing-list-analysis-toolkit/issues/41\n",
    "def strip_thread(text):\n",
    "    text = text.replace(\"\\r\", \"\")\n",
    "    lines = text.split(\"\\n\")\n",
    "    lines = [line for line in lines if len(line) > 0]\n",
    "    lines = [line for line in lines if line[0] != \">\"]\n",
    "    lines = [line for line in lines if line[:3] != \"Re:\"]\n",
    "    lines = [line for line in lines if line[:7] != \"Subject\"]\n",
    "    lines = [line for line in lines if line[:5] != \"From:\"]\n",
    "    lines = [line for line in lines if line[:5] != \"Date:\"]\n",
    "    lines = [line for line in lines if \"BEGIN PGP SIGNED MESSAGE\" not in line]\n",
    "    lines = [line for line in lines if line[:5] != \"Hash:\"]\n",
    "    lines = [line for line in lines if line[:10] != \"Version: G\"]\n",
    "    lines = [line for line in lines if \"wrote:\" not in line]\n",
    "    lines = [line for line in lines if \"wrote :\" not in line]\n",
    "    lines = [line for line in lines if \"writes:\" not in line]\n",
    "    lines = [line for line in lines if line[:7] != \"Am Mit,\"]\n",
    "    lines = [line for line in lines if line[:7] != \"Am Don,\"]\n",
    "    lines = [line for line in lines if line[:7] != \"Am Mon,\"]\n",
    "    lines = [line for line in lines if line[:7] != \"Quoting\"]\n",
    "    lines = [line for line in lines if line[:10] != \"Em Quinta,\"]\n",
    "    lines = [line for line in lines if \"said:\" not in line]\n",
    "    lines = [\n",
    "        line\n",
    "        for line in lines\n",
    "        if re.match(\n",
    "            \".*n (Sun|Mon|Tue|Wed|Thu|Fri|Sat), .. (Jan|Feb|Mar|Apr|May|Jun|Jul|Aug|Sep|Sept|Oct|Nov|Dec) 20..*\",\n",
    "            line,\n",
    "        )\n",
    "        is None\n",
    "    ]\n",
    "    lines = [\n",
    "        line\n",
    "        for line in lines\n",
    "        if re.match(\n",
    "            (\n",
    "                \".*n (Sunday|Monday|Tuesday|Wednesday|Thursday|Friday|Saturday) ..\"\n",
    "                \" (January|February|March|April|May|June|July|August|September|October|November|December) 20..*\"\n",
    "            ),\n",
    "            line,\n",
    "        )\n",
    "        is None\n",
    "    ]\n",
    "    lines = [\n",
    "        line\n",
    "        for line in lines\n",
    "        if re.match(\n",
    "            \".*n (Sun|Mon|Tue|Wed|Thu|Fri|Sat), (Jan|Feb|Mar|Apr|May|Jun|Jul|Aug|Sep|Sept|Oct|Nov|Dec) .., 20..*\",\n",
    "            line,\n",
    "        )\n",
    "        is None\n",
    "    ]\n",
    "    lines = [\n",
    "        line\n",
    "        for line in lines\n",
    "        if re.match(\n",
    "            r\".*n (Sun|Mon|Tue|Wed|Thu|Fri|Sat), 20[\\d]{2}-[\\d]{2}-[\\d]{2} at.*\",\n",
    "            line,\n",
    "        )\n",
    "        is None\n",
    "    ]\n",
    "    lines = [line for line in lines if line[-6:] != \"said: \"]\n",
    "    lines = [line for line in lines if line[-8:] != \"babbled:\"]\n",
    "    lines = [line for line in lines if line[-7:] != \"wrot=e:\"]\n",
    "    lines = [line for line in lines if line[-8:] != \"A9crit :\"]\n",
    "    lines = [line for line in lines if line[0] != \"|\"]\n",
    "    return \"\\n\".join(lines)\n",
    "\n",
    "\n",
    "# format for CSV, clean special characters, and remove extranous emails\n",
    "def pandas_clean(emails):\n",
    "    emails[\"Body\"].replace(\n",
    "        to_replace=[\n",
    "            r\"\\n\",\n",
    "            \"\\n\",\n",
    "        ],\n",
    "        value=\" \",\n",
    "        regex=True,\n",
    "        inplace=True,\n",
    "    )\n",
    "    emails[\"Body\"].replace(\n",
    "        to_replace=[r\"\\'\", \"'\", \">\", \"<\", \"= \", \"-\", r\"http\\S+\"],\n",
    "        value=\"\",\n",
    "        regex=True,\n",
    "        inplace=True,\n",
    "    )\n",
    "    emails[\"Body\"].replace(\n",
    "        to_replace=[r\"\\\\\\s+\", r\"\\\\s+\", \"=\"], value=\"\", regex=True, inplace=True\n",
    "    )\n",
    "    emails[\"Body\"].replace(\n",
    "        to_replace=[\"   \", \"  \"], value=\" \", regex=True, inplace=True\n",
    "    )\n",
    "    emails[\"Body\"].replace(\n",
    "        to_replace=[\"_\", \"3D\"], value=\"\", regex=True, inplace=True\n",
    "    )\n",
    "    emails[\"Body\"].replace(\n",
    "        to_replace=[\"   \", \"  \"], value=\" \", regex=True, inplace=True\n",
    "    )\n",
    "    emails[\"Body\"].replace(\n",
    "        to_replace=[\"   \", \"  \"], value=\" \", regex=True, inplace=True\n",
    "    )\n",
    "    emails[\"Body\"] = emails[\"Body\"].apply(\n",
    "        lambda x: x.strip().replace(r\"\\n\", \"\")\n",
    "    )\n",
    "\n",
    "    emails.drop(emails.index[emails[\"Body\"] == \"\"], inplace=True)\n",
    "    emails.drop(emails.index[emails[\"Body\"] == \" \"], inplace=True)\n",
    "    emails.dropna(subset=[\"Body\"], inplace=True)\n",
    "\n",
    "    emails = emails.reset_index()\n",
    "    emails.drop(\"index\", axis=1, inplace=True)\n",
    "    return emails"
   ]
  },
  {
   "cell_type": "code",
   "execution_count": 121,
   "metadata": {
    "ExecuteTime": {
     "end_time": "2021-02-22T16:24:55.696503Z",
     "start_time": "2021-02-22T16:24:55.666029Z"
    }
   },
   "outputs": [
    {
     "data": {
      "text/html": [
       "<div>\n",
       "<style scoped>\n",
       "    .dataframe tbody tr th:only-of-type {\n",
       "        vertical-align: middle;\n",
       "    }\n",
       "\n",
       "    .dataframe tbody tr th {\n",
       "        vertical-align: top;\n",
       "    }\n",
       "\n",
       "    .dataframe thead th {\n",
       "        text-align: right;\n",
       "    }\n",
       "</style>\n",
       "<table border=\"1\" class=\"dataframe\">\n",
       "  <thead>\n",
       "    <tr style=\"text-align: right;\">\n",
       "      <th></th>\n",
       "      <th>Message-ID</th>\n",
       "      <th>Date</th>\n",
       "      <th>Body</th>\n",
       "    </tr>\n",
       "  </thead>\n",
       "  <tbody>\n",
       "    <tr>\n",
       "      <th>0</th>\n",
       "      <td>&lt;23160.21991.603350.704278@localhost.localdomain&gt;</td>\n",
       "      <td>Mon, 05 Feb 2018 14:02:31 +0100</td>\n",
       "      <td>[\"Hallo,I am posting the following to the deve...</td>\n",
       "    </tr>\n",
       "    <tr>\n",
       "      <th>1</th>\n",
       "      <td>&lt;1497001315.12366749.1517840821880.JavaMail.zi...</td>\n",
       "      <td>Mon, 05 Feb 2018 15:27:01 +0100</td>\n",
       "      <td>[ Mail original De: \"Jakub Cajka\"  Our as Fedo...</td>\n",
       "    </tr>\n",
       "    <tr>\n",
       "      <th>2</th>\n",
       "      <td>&lt;1007665295.12665074.1517845711607.JavaMail.zi...</td>\n",
       "      <td>Mon, 05 Feb 2018 16:48:31 +0100</td>\n",
       "      <td>[ Mail original De: \"Jakub Cajka\" Hi Jakub I t...</td>\n",
       "    </tr>\n",
       "    <tr>\n",
       "      <th>3</th>\n",
       "      <td>&lt;20180205220003.8C9E160A4182@fedocal02.phx2.fe...</td>\n",
       "      <td>Mon, 05 Feb 2018 22:00:03 +0000</td>\n",
       "      <td>[Dear all,You are kindly invited to the meetin...</td>\n",
       "    </tr>\n",
       "    <tr>\n",
       "      <th>4</th>\n",
       "      <td>&lt;CAObL_7E0HOrrim=utF+G+oZEpi1qo2yzLbo2oGZUvoXe...</td>\n",
       "      <td>Mon, 05 Feb 2018 22:02:31 +0000</td>\n",
       "      <td>[On Thu, Feb 1, 2018 at 11:34 AM, Hans de Goed...</td>\n",
       "    </tr>\n",
       "    <tr>\n",
       "      <th>5</th>\n",
       "      <td>&lt;CACmE3aMjMkFLWQ4x-sh+NNE9aS6my1NVPw-M8K-8hujs...</td>\n",
       "      <td>Mon, 05 Feb 2018 22:19:12 +0000</td>\n",
       "      <td>[Hi Matthew!Nice to have you on board :)Cheers...</td>\n",
       "    </tr>\n",
       "    <tr>\n",
       "      <th>6</th>\n",
       "      <td>&lt;CACmE3aME8cdidFOZJEPa8xgxycA6ETC5UODVUgmvF4E7...</td>\n",
       "      <td>Mon, 05 Feb 2018 22:23:35 +0000</td>\n",
       "      <td>[Thank you all for the warm welcome! :), PGRpd...</td>\n",
       "    </tr>\n",
       "    <tr>\n",
       "      <th>7</th>\n",
       "      <td>&lt;20180206000654.24998.31154@mailman01.phx2.fed...</td>\n",
       "      <td>Tue, 06 Feb 2018 00:06:54 +0000</td>\n",
       "      <td>[Hello, Great, If there are virtual posibility...</td>\n",
       "    </tr>\n",
       "    <tr>\n",
       "      <th>8</th>\n",
       "      <td>&lt;20180206060714.8900.73898@mailman01.phx2.fedo...</td>\n",
       "      <td>Tue, 06 Feb 2018 06:07:14 +0000</td>\n",
       "      <td>[ Submit a PR upstream to fix it, and use that...</td>\n",
       "    </tr>\n",
       "    <tr>\n",
       "      <th>9</th>\n",
       "      <td>&lt;20180206073834.GA17034@redhat.com&gt;</td>\n",
       "      <td>Tue, 06 Feb 2018 07:38:34 +0000</td>\n",
       "      <td>[binutils 2.30 has been out for about a week. ...</td>\n",
       "    </tr>\n",
       "    <tr>\n",
       "      <th>10</th>\n",
       "      <td>&lt;6337ae61-38ae-0499-a668-05d9d5892c19@redhat.com&gt;</td>\n",
       "      <td>Tue, 06 Feb 2018 08:54:17 +0100</td>\n",
       "      <td>[Dne 3.2.2018 v 15:45 Richard Shaw napsal(a): ...</td>\n",
       "    </tr>\n",
       "    <tr>\n",
       "      <th>11</th>\n",
       "      <td>&lt;20180206081850.23128.62874@mailman01.phx2.fed...</td>\n",
       "      <td>Tue, 06 Feb 2018 08:18:50 +0000</td>\n",
       "      <td>[\"Hi,compiling openclonk [1] fails with the fo...</td>\n",
       "    </tr>\n",
       "    <tr>\n",
       "      <th>12</th>\n",
       "      <td>&lt;554018982.592593.1517916212055.JavaMail.zimbr...</td>\n",
       "      <td>Tue, 06 Feb 2018 06:23:32 -0500</td>\n",
       "      <td>[ Original Message  From: \"nicolas mailhot\" ni...</td>\n",
       "    </tr>\n",
       "    <tr>\n",
       "      <th>13</th>\n",
       "      <td>&lt;1410577318.592718.1517916252914.JavaMail.zimb...</td>\n",
       "      <td>Tue, 06 Feb 2018 06:24:12 -0500</td>\n",
       "      <td>[ Original Message  From: \"nicolas mailhot\" ni...</td>\n",
       "    </tr>\n",
       "  </tbody>\n",
       "</table>\n",
       "</div>"
      ],
      "text/plain": [
       "                                           Message-ID  \\\n",
       "0   <23160.21991.603350.704278@localhost.localdomain>   \n",
       "1   <1497001315.12366749.1517840821880.JavaMail.zi...   \n",
       "2   <1007665295.12665074.1517845711607.JavaMail.zi...   \n",
       "3   <20180205220003.8C9E160A4182@fedocal02.phx2.fe...   \n",
       "4   <CAObL_7E0HOrrim=utF+G+oZEpi1qo2yzLbo2oGZUvoXe...   \n",
       "5   <CACmE3aMjMkFLWQ4x-sh+NNE9aS6my1NVPw-M8K-8hujs...   \n",
       "6   <CACmE3aME8cdidFOZJEPa8xgxycA6ETC5UODVUgmvF4E7...   \n",
       "7   <20180206000654.24998.31154@mailman01.phx2.fed...   \n",
       "8   <20180206060714.8900.73898@mailman01.phx2.fedo...   \n",
       "9                 <20180206073834.GA17034@redhat.com>   \n",
       "10  <6337ae61-38ae-0499-a668-05d9d5892c19@redhat.com>   \n",
       "11  <20180206081850.23128.62874@mailman01.phx2.fed...   \n",
       "12  <554018982.592593.1517916212055.JavaMail.zimbr...   \n",
       "13  <1410577318.592718.1517916252914.JavaMail.zimb...   \n",
       "\n",
       "                               Date  \\\n",
       "0   Mon, 05 Feb 2018 14:02:31 +0100   \n",
       "1   Mon, 05 Feb 2018 15:27:01 +0100   \n",
       "2   Mon, 05 Feb 2018 16:48:31 +0100   \n",
       "3   Mon, 05 Feb 2018 22:00:03 +0000   \n",
       "4   Mon, 05 Feb 2018 22:02:31 +0000   \n",
       "5   Mon, 05 Feb 2018 22:19:12 +0000   \n",
       "6   Mon, 05 Feb 2018 22:23:35 +0000   \n",
       "7   Tue, 06 Feb 2018 00:06:54 +0000   \n",
       "8   Tue, 06 Feb 2018 06:07:14 +0000   \n",
       "9   Tue, 06 Feb 2018 07:38:34 +0000   \n",
       "10  Tue, 06 Feb 2018 08:54:17 +0100   \n",
       "11  Tue, 06 Feb 2018 08:18:50 +0000   \n",
       "12  Tue, 06 Feb 2018 06:23:32 -0500   \n",
       "13  Tue, 06 Feb 2018 06:24:12 -0500   \n",
       "\n",
       "                                                 Body  \n",
       "0   [\"Hallo,I am posting the following to the deve...  \n",
       "1   [ Mail original De: \"Jakub Cajka\"  Our as Fedo...  \n",
       "2   [ Mail original De: \"Jakub Cajka\" Hi Jakub I t...  \n",
       "3   [Dear all,You are kindly invited to the meetin...  \n",
       "4   [On Thu, Feb 1, 2018 at 11:34 AM, Hans de Goed...  \n",
       "5   [Hi Matthew!Nice to have you on board :)Cheers...  \n",
       "6   [Thank you all for the warm welcome! :), PGRpd...  \n",
       "7   [Hello, Great, If there are virtual posibility...  \n",
       "8   [ Submit a PR upstream to fix it, and use that...  \n",
       "9   [binutils 2.30 has been out for about a week. ...  \n",
       "10  [Dne 3.2.2018 v 15:45 Richard Shaw napsal(a): ...  \n",
       "11  [\"Hi,compiling openclonk [1] fails with the fo...  \n",
       "12  [ Original Message  From: \"nicolas mailhot\" ni...  \n",
       "13  [ Original Message  From: \"nicolas mailhot\" ni...  "
      ]
     },
     "execution_count": 121,
     "metadata": {},
     "output_type": "execute_result"
    }
   ],
   "source": [
    "clean = df.copy()\n",
    "clean[\"Body\"] = df[\"Body\"].apply(strip_thread)\n",
    "clean = pandas_clean(clean)\n",
    "clean"
   ]
  },
  {
   "cell_type": "code",
   "execution_count": 122,
   "metadata": {
    "ExecuteTime": {
     "end_time": "2021-02-22T16:24:56.099181Z",
     "start_time": "2021-02-22T16:24:56.076945Z"
    }
   },
   "outputs": [
    {
     "data": {
      "text/html": [
       "<div>\n",
       "<style scoped>\n",
       "    .dataframe tbody tr th:only-of-type {\n",
       "        vertical-align: middle;\n",
       "    }\n",
       "\n",
       "    .dataframe tbody tr th {\n",
       "        vertical-align: top;\n",
       "    }\n",
       "\n",
       "    .dataframe thead th {\n",
       "        text-align: right;\n",
       "    }\n",
       "</style>\n",
       "<table border=\"1\" class=\"dataframe\">\n",
       "  <thead>\n",
       "    <tr style=\"text-align: right;\">\n",
       "      <th></th>\n",
       "      <th>Message-ID</th>\n",
       "      <th>Date</th>\n",
       "      <th>Body</th>\n",
       "      <th>Chunk</th>\n",
       "    </tr>\n",
       "  </thead>\n",
       "  <tbody>\n",
       "    <tr>\n",
       "      <th>0</th>\n",
       "      <td>&lt;23160.21991.603350.704278@localhost.localdomain&gt;</td>\n",
       "      <td>2018-02-05 14:02:31+01:00</td>\n",
       "      <td>[\"Hallo,I am posting the following to the deve...</td>\n",
       "      <td>2018-02-01</td>\n",
       "    </tr>\n",
       "    <tr>\n",
       "      <th>1</th>\n",
       "      <td>&lt;1497001315.12366749.1517840821880.JavaMail.zi...</td>\n",
       "      <td>2018-02-05 15:27:01+01:00</td>\n",
       "      <td>[ Mail original De: \"Jakub Cajka\"  Our as Fedo...</td>\n",
       "      <td>2018-02-01</td>\n",
       "    </tr>\n",
       "    <tr>\n",
       "      <th>2</th>\n",
       "      <td>&lt;1007665295.12665074.1517845711607.JavaMail.zi...</td>\n",
       "      <td>2018-02-05 16:48:31+01:00</td>\n",
       "      <td>[ Mail original De: \"Jakub Cajka\" Hi Jakub I t...</td>\n",
       "      <td>2018-02-01</td>\n",
       "    </tr>\n",
       "    <tr>\n",
       "      <th>3</th>\n",
       "      <td>&lt;20180205220003.8C9E160A4182@fedocal02.phx2.fe...</td>\n",
       "      <td>2018-02-05 22:00:03+00:00</td>\n",
       "      <td>[Dear all,You are kindly invited to the meetin...</td>\n",
       "      <td>2018-02-01</td>\n",
       "    </tr>\n",
       "    <tr>\n",
       "      <th>4</th>\n",
       "      <td>&lt;CAObL_7E0HOrrim=utF+G+oZEpi1qo2yzLbo2oGZUvoXe...</td>\n",
       "      <td>2018-02-05 22:02:31+00:00</td>\n",
       "      <td>[On Thu, Feb 1, 2018 at 11:34 AM, Hans de Goed...</td>\n",
       "      <td>2018-02-01</td>\n",
       "    </tr>\n",
       "  </tbody>\n",
       "</table>\n",
       "</div>"
      ],
      "text/plain": [
       "                                          Message-ID  \\\n",
       "0  <23160.21991.603350.704278@localhost.localdomain>   \n",
       "1  <1497001315.12366749.1517840821880.JavaMail.zi...   \n",
       "2  <1007665295.12665074.1517845711607.JavaMail.zi...   \n",
       "3  <20180205220003.8C9E160A4182@fedocal02.phx2.fe...   \n",
       "4  <CAObL_7E0HOrrim=utF+G+oZEpi1qo2yzLbo2oGZUvoXe...   \n",
       "\n",
       "                        Date  \\\n",
       "0  2018-02-05 14:02:31+01:00   \n",
       "1  2018-02-05 15:27:01+01:00   \n",
       "2  2018-02-05 16:48:31+01:00   \n",
       "3  2018-02-05 22:00:03+00:00   \n",
       "4  2018-02-05 22:02:31+00:00   \n",
       "\n",
       "                                                Body       Chunk  \n",
       "0  [\"Hallo,I am posting the following to the deve...  2018-02-01  \n",
       "1  [ Mail original De: \"Jakub Cajka\"  Our as Fedo...  2018-02-01  \n",
       "2  [ Mail original De: \"Jakub Cajka\" Hi Jakub I t...  2018-02-01  \n",
       "3  [Dear all,You are kindly invited to the meetin...  2018-02-01  \n",
       "4  [On Thu, Feb 1, 2018 at 11:34 AM, Hans de Goed...  2018-02-01  "
      ]
     },
     "execution_count": 122,
     "metadata": {},
     "output_type": "execute_result"
    }
   ],
   "source": [
    "clean[\"Date\"] = clean[\"Date\"].apply(lambda x: pd.to_datetime(x))\n",
    "clean[\"Chunk\"] = clean[\"Date\"].apply(\n",
    "    lambda x: datetime.date(x.year, x.month, 1)\n",
    ")\n",
    "clean = clean.sort_values(by=\"Date\")\n",
    "clean.reset_index(inplace=True, drop=True)\n",
    "clean.head()"
   ]
  },
  {
   "cell_type": "markdown",
   "metadata": {},
   "source": [
    "## Step 3: Analyze sample customer messages\n",
    "\n",
    "For our analysis, we'll focus on extracting:\n",
    "- Keywords \n",
    "- Actions and Objects (from semantic roles)"
   ]
  },
  {
   "cell_type": "code",
   "execution_count": 123,
   "metadata": {
    "ExecuteTime": {
     "end_time": "2021-02-22T16:24:56.558233Z",
     "start_time": "2021-02-22T16:24:56.552380Z"
    }
   },
   "outputs": [],
   "source": [
    "def watson_analyze(message):\n",
    "    \n",
    "    \"\"\"\n",
    "    Extract keywords and sematic roles from text\n",
    "    Input : message\n",
    "    Output : Array of action verbs, Array of Keywords\n",
    "    \"\"\"\n",
    "    results_list = []\n",
    "    \n",
    "    result = nlu.analyze( text=message, features=Features( keywords=KeywordsOptions(), semantic_roles=SemanticRolesOptions() ) ).get_result()\n",
    "    actions_arr = []\n",
    "    keywords_arr = []\n",
    "    for keyword in result[\"keywords\"]:\n",
    "        keywords_arr.append( keyword[\"text\"] )\n",
    "    if( \"semantic_roles\" in result ):\n",
    "        for semantic_result in result[\"semantic_roles\"]:\n",
    "            if( \"action\" in semantic_result ):\n",
    "                actions_arr.append( semantic_result[\"action\"][\"normalized\"] )\n",
    "                \n",
    "    return pd.Series([actions_arr, keywords_arr])"
   ]
  },
  {
   "cell_type": "code",
   "execution_count": 124,
   "metadata": {
    "ExecuteTime": {
     "end_time": "2021-02-22T16:24:56.767344Z",
     "start_time": "2021-02-22T16:24:56.761523Z"
    }
   },
   "outputs": [],
   "source": [
    "clean[\"Actions\"] = np.nan\n",
    "clean[\"Keywords\"] = np.nan"
   ]
  },
  {
   "cell_type": "code",
   "execution_count": 125,
   "metadata": {
    "ExecuteTime": {
     "end_time": "2021-02-22T16:25:05.035654Z",
     "start_time": "2021-02-22T16:24:56.950994Z"
    }
   },
   "outputs": [],
   "source": [
    "clean[['Actions', 'Keywords']] = clean['Body'].apply(lambda x: watson_analyze(x))"
   ]
  },
  {
   "cell_type": "code",
   "execution_count": 126,
   "metadata": {
    "ExecuteTime": {
     "end_time": "2021-02-22T16:25:05.057319Z",
     "start_time": "2021-02-22T16:25:05.037964Z"
    }
   },
   "outputs": [
    {
     "data": {
      "text/html": [
       "<div>\n",
       "<style scoped>\n",
       "    .dataframe tbody tr th:only-of-type {\n",
       "        vertical-align: middle;\n",
       "    }\n",
       "\n",
       "    .dataframe tbody tr th {\n",
       "        vertical-align: top;\n",
       "    }\n",
       "\n",
       "    .dataframe thead th {\n",
       "        text-align: right;\n",
       "    }\n",
       "</style>\n",
       "<table border=\"1\" class=\"dataframe\">\n",
       "  <thead>\n",
       "    <tr style=\"text-align: right;\">\n",
       "      <th></th>\n",
       "      <th>Message-ID</th>\n",
       "      <th>Date</th>\n",
       "      <th>Body</th>\n",
       "      <th>Chunk</th>\n",
       "      <th>Actions</th>\n",
       "      <th>Keywords</th>\n",
       "    </tr>\n",
       "  </thead>\n",
       "  <tbody>\n",
       "    <tr>\n",
       "      <th>0</th>\n",
       "      <td>&lt;23160.21991.603350.704278@localhost.localdomain&gt;</td>\n",
       "      <td>2018-02-05 14:02:31+01:00</td>\n",
       "      <td>[\"Hallo,I am posting the following to the deve...</td>\n",
       "      <td>2018-02-01</td>\n",
       "      <td>[be, be post, have, be, fail, see, do, savecha...</td>\n",
       "      <td>[KDE print dialog, Fedora cinnamon spin, cinna...</td>\n",
       "    </tr>\n",
       "    <tr>\n",
       "      <th>1</th>\n",
       "      <td>&lt;1497001315.12366749.1517840821880.JavaMail.zi...</td>\n",
       "      <td>2018-02-05 15:27:01+01:00</td>\n",
       "      <td>[ Mail original De: \"Jakub Cajka\"  Our as Fedo...</td>\n",
       "      <td>2018-02-01</td>\n",
       "      <td>[believe, be prepare, really share, be merge, ...</td>\n",
       "      <td>[yum version, dumb decision, dedicated package...</td>\n",
       "    </tr>\n",
       "    <tr>\n",
       "      <th>2</th>\n",
       "      <td>&lt;1007665295.12665074.1517845711607.JavaMail.zi...</td>\n",
       "      <td>2018-02-05 16:48:31+01:00</td>\n",
       "      <td>[ Mail original De: \"Jakub Cajka\" Hi Jakub I t...</td>\n",
       "      <td>2018-02-01</td>\n",
       "      <td>[think, don\\t, do, want, replace, be, create, ...</td>\n",
       "      <td>[Fedora Go packages, lot of work, t cover, opt...</td>\n",
       "    </tr>\n",
       "    <tr>\n",
       "      <th>3</th>\n",
       "      <td>&lt;20180205220003.8C9E160A4182@fedocal02.phx2.fe...</td>\n",
       "      <td>2018-02-05 22:00:03+00:00</td>\n",
       "      <td>[Dear all,You are kindly invited to the meetin...</td>\n",
       "      <td>2018-02-01</td>\n",
       "      <td>[invite]</td>\n",
       "      <td>[Modularity WG, Meeting of the Modularity Work...</td>\n",
       "    </tr>\n",
       "    <tr>\n",
       "      <th>4</th>\n",
       "      <td>&lt;CAObL_7E0HOrrim=utF+G+oZEpi1qo2yzLbo2oGZUvoXe...</td>\n",
       "      <td>2018-02-05 22:02:31+00:00</td>\n",
       "      <td>[On Thu, Feb 1, 2018 at 11:34 AM, Hans de Goed...</td>\n",
       "      <td>2018-02-01</td>\n",
       "      <td>[write, work, like, off be, be, be know to cau...</td>\n",
       "      <td>[driver PSR support, Improved Laptop Battery L...</td>\n",
       "    </tr>\n",
       "  </tbody>\n",
       "</table>\n",
       "</div>"
      ],
      "text/plain": [
       "                                          Message-ID  \\\n",
       "0  <23160.21991.603350.704278@localhost.localdomain>   \n",
       "1  <1497001315.12366749.1517840821880.JavaMail.zi...   \n",
       "2  <1007665295.12665074.1517845711607.JavaMail.zi...   \n",
       "3  <20180205220003.8C9E160A4182@fedocal02.phx2.fe...   \n",
       "4  <CAObL_7E0HOrrim=utF+G+oZEpi1qo2yzLbo2oGZUvoXe...   \n",
       "\n",
       "                        Date  \\\n",
       "0  2018-02-05 14:02:31+01:00   \n",
       "1  2018-02-05 15:27:01+01:00   \n",
       "2  2018-02-05 16:48:31+01:00   \n",
       "3  2018-02-05 22:00:03+00:00   \n",
       "4  2018-02-05 22:02:31+00:00   \n",
       "\n",
       "                                                Body       Chunk  \\\n",
       "0  [\"Hallo,I am posting the following to the deve...  2018-02-01   \n",
       "1  [ Mail original De: \"Jakub Cajka\"  Our as Fedo...  2018-02-01   \n",
       "2  [ Mail original De: \"Jakub Cajka\" Hi Jakub I t...  2018-02-01   \n",
       "3  [Dear all,You are kindly invited to the meetin...  2018-02-01   \n",
       "4  [On Thu, Feb 1, 2018 at 11:34 AM, Hans de Goed...  2018-02-01   \n",
       "\n",
       "                                             Actions  \\\n",
       "0  [be, be post, have, be, fail, see, do, savecha...   \n",
       "1  [believe, be prepare, really share, be merge, ...   \n",
       "2  [think, don\\t, do, want, replace, be, create, ...   \n",
       "3                                           [invite]   \n",
       "4  [write, work, like, off be, be, be know to cau...   \n",
       "\n",
       "                                            Keywords  \n",
       "0  [KDE print dialog, Fedora cinnamon spin, cinna...  \n",
       "1  [yum version, dumb decision, dedicated package...  \n",
       "2  [Fedora Go packages, lot of work, t cover, opt...  \n",
       "3  [Modularity WG, Meeting of the Modularity Work...  \n",
       "4  [driver PSR support, Improved Laptop Battery L...  "
      ]
     },
     "execution_count": 126,
     "metadata": {},
     "output_type": "execute_result"
    }
   ],
   "source": [
    "clean.head()"
   ]
  },
  {
   "cell_type": "markdown",
   "metadata": {},
   "source": [
    "## Step 4: Aggregate Keywords by Month\n"
   ]
  },
  {
   "cell_type": "markdown",
   "metadata": {},
   "source": [
    "Here we aggregate the keywords extracted using watson NLU for each email by month and create a long dataframe with the columns `month`, `word`, and `count` which can be used for making plots.\n",
    "\n",
    "Note : To observe monthly trends, we need to be able to run the analysis on a larger sample of the data which will let us get more months and keywords to analyze.\n",
    "\n",
    "For that, we need a Paid account to be able to run a larger query as well as for us to succesfully run the analysis without an error, we have to be able to clean the dataset to remove the code fragments"
   ]
  },
  {
   "cell_type": "code",
   "execution_count": 190,
   "metadata": {
    "ExecuteTime": {
     "end_time": "2021-02-22T19:28:21.498865Z",
     "start_time": "2021-02-22T19:28:21.490147Z"
    }
   },
   "outputs": [],
   "source": [
    "months = set()\n",
    "monthly_dict_list = []\n",
    "\n",
    "for index, row in clean.iterrows():\n",
    "\n",
    "    if row['Chunk'] not in months: \n",
    "        \n",
    "        months.add(row['Chunk'])\n",
    "        \n",
    "        month_keywords = dict(sorted(month_keywords.items(), key=lambda item: item[1]), reverse=True)\n",
    "        \n",
    "        monthly_dict_list.append(month_keywords)\n",
    "        month_keywords = defaultdict(int)\n",
    "\n",
    "    for word in row['Keywords']:\n",
    "        month_keywords[word] += 1\n",
    "        month_keywords[(str(month), str(word))] = month_keywords.pop(word)\n"
   ]
  },
  {
   "cell_type": "code",
   "execution_count": 195,
   "metadata": {
    "ExecuteTime": {
     "end_time": "2021-02-22T19:29:58.626526Z",
     "start_time": "2021-02-22T19:29:58.620572Z"
    }
   },
   "outputs": [],
   "source": [
    "monthly_words_df = pd.DataFrame(\n",
    "    [{\"month\": key[0], \"word\": key[1], \"count\": value}  for i in range(len(monthly_dict_list)) for (key), value in monthly_dict_list[i].items()])"
   ]
  },
  {
   "cell_type": "code",
   "execution_count": 198,
   "metadata": {
    "ExecuteTime": {
     "end_time": "2021-02-22T19:30:17.574182Z",
     "start_time": "2021-02-22T19:30:17.563741Z"
    }
   },
   "outputs": [
    {
     "data": {
      "text/html": [
       "<div>\n",
       "<style scoped>\n",
       "    .dataframe tbody tr th:only-of-type {\n",
       "        vertical-align: middle;\n",
       "    }\n",
       "\n",
       "    .dataframe tbody tr th {\n",
       "        vertical-align: top;\n",
       "    }\n",
       "\n",
       "    .dataframe thead th {\n",
       "        text-align: right;\n",
       "    }\n",
       "</style>\n",
       "<table border=\"1\" class=\"dataframe\">\n",
       "  <thead>\n",
       "    <tr style=\"text-align: right;\">\n",
       "      <th></th>\n",
       "      <th>month</th>\n",
       "      <th>word</th>\n",
       "      <th>count</th>\n",
       "    </tr>\n",
       "  </thead>\n",
       "  <tbody>\n",
       "    <tr>\n",
       "      <th>0</th>\n",
       "      <td>2018-02-01</td>\n",
       "      <td>KDE print dialog</td>\n",
       "      <td>1</td>\n",
       "    </tr>\n",
       "    <tr>\n",
       "      <th>1</th>\n",
       "      <td>2018-02-01</td>\n",
       "      <td>Fedora cinnamon spin</td>\n",
       "      <td>1</td>\n",
       "    </tr>\n",
       "    <tr>\n",
       "      <th>2</th>\n",
       "      <td>2018-02-01</td>\n",
       "      <td>cinnamon desktop</td>\n",
       "      <td>1</td>\n",
       "    </tr>\n",
       "    <tr>\n",
       "      <th>3</th>\n",
       "      <td>2018-02-01</td>\n",
       "      <td>KDE problem</td>\n",
       "      <td>1</td>\n",
       "    </tr>\n",
       "    <tr>\n",
       "      <th>4</th>\n",
       "      <td>2018-02-01</td>\n",
       "      <td>CUPS settings</td>\n",
       "      <td>1</td>\n",
       "    </tr>\n",
       "    <tr>\n",
       "      <th>5</th>\n",
       "      <td>2018-02-01</td>\n",
       "      <td>KDE integrationin Fedora</td>\n",
       "      <td>1</td>\n",
       "    </tr>\n",
       "    <tr>\n",
       "      <th>6</th>\n",
       "      <td>2018-02-01</td>\n",
       "      <td>devel list</td>\n",
       "      <td>1</td>\n",
       "    </tr>\n",
       "    <tr>\n",
       "      <th>7</th>\n",
       "      <td>2018-02-01</td>\n",
       "      <td>mostrelevant application</td>\n",
       "      <td>1</td>\n",
       "    </tr>\n",
       "    <tr>\n",
       "      <th>8</th>\n",
       "      <td>2018-02-01</td>\n",
       "      <td>cinnamon spin</td>\n",
       "      <td>1</td>\n",
       "    </tr>\n",
       "    <tr>\n",
       "      <th>9</th>\n",
       "      <td>2018-02-01</td>\n",
       "      <td>settings</td>\n",
       "      <td>1</td>\n",
       "    </tr>\n",
       "  </tbody>\n",
       "</table>\n",
       "</div>"
      ],
      "text/plain": [
       "        month                      word count\n",
       "0  2018-02-01          KDE print dialog     1\n",
       "1  2018-02-01      Fedora cinnamon spin     1\n",
       "2  2018-02-01          cinnamon desktop     1\n",
       "3  2018-02-01               KDE problem     1\n",
       "4  2018-02-01             CUPS settings     1\n",
       "5  2018-02-01  KDE integrationin Fedora     1\n",
       "6  2018-02-01                devel list     1\n",
       "7  2018-02-01  mostrelevant application     1\n",
       "8  2018-02-01             cinnamon spin     1\n",
       "9  2018-02-01                  settings     1"
      ]
     },
     "execution_count": 198,
     "metadata": {},
     "output_type": "execute_result"
    }
   ],
   "source": [
    "monthly_words_df.head(10)"
   ]
  },
  {
   "cell_type": "code",
   "execution_count": 199,
   "metadata": {
    "ExecuteTime": {
     "end_time": "2021-02-22T19:30:26.943534Z",
     "start_time": "2021-02-22T19:30:26.933405Z"
    }
   },
   "outputs": [
    {
     "data": {
      "text/html": [
       "<div>\n",
       "<style scoped>\n",
       "    .dataframe tbody tr th:only-of-type {\n",
       "        vertical-align: middle;\n",
       "    }\n",
       "\n",
       "    .dataframe tbody tr th {\n",
       "        vertical-align: top;\n",
       "    }\n",
       "\n",
       "    .dataframe thead th {\n",
       "        text-align: right;\n",
       "    }\n",
       "</style>\n",
       "<table border=\"1\" class=\"dataframe\">\n",
       "  <thead>\n",
       "    <tr style=\"text-align: right;\">\n",
       "      <th></th>\n",
       "      <th>month</th>\n",
       "      <th>word</th>\n",
       "      <th>count</th>\n",
       "    </tr>\n",
       "  </thead>\n",
       "  <tbody>\n",
       "    <tr>\n",
       "      <th>228</th>\n",
       "      <td>2018-02-01</td>\n",
       "      <td>programming</td>\n",
       "      <td>1</td>\n",
       "    </tr>\n",
       "    <tr>\n",
       "      <th>229</th>\n",
       "      <td>2018-02-01</td>\n",
       "      <td>week</td>\n",
       "      <td>1</td>\n",
       "    </tr>\n",
       "    <tr>\n",
       "      <th>230</th>\n",
       "      <td>2018-02-01</td>\n",
       "      <td>Windows</td>\n",
       "      <td>1</td>\n",
       "    </tr>\n",
       "    <tr>\n",
       "      <th>231</th>\n",
       "      <td>2018-02-01</td>\n",
       "      <td>Supports Linux</td>\n",
       "      <td>1</td>\n",
       "    </tr>\n",
       "    <tr>\n",
       "      <th>232</th>\n",
       "      <td>2018-02-01</td>\n",
       "      <td>modest enhancements</td>\n",
       "      <td>1</td>\n",
       "    </tr>\n",
       "    <tr>\n",
       "      <th>233</th>\n",
       "      <td>2018-02-01</td>\n",
       "      <td>binutils</td>\n",
       "      <td>1</td>\n",
       "    </tr>\n",
       "    <tr>\n",
       "      <th>234</th>\n",
       "      <td>2018-02-01</td>\n",
       "      <td>anysoftware</td>\n",
       "      <td>1</td>\n",
       "    </tr>\n",
       "    <tr>\n",
       "      <th>235</th>\n",
       "      <td>2018-02-01</td>\n",
       "      <td>inRawhide</td>\n",
       "      <td>1</td>\n",
       "    </tr>\n",
       "    <tr>\n",
       "      <th>236</th>\n",
       "      <td>2018-02-01</td>\n",
       "      <td>RISCVarchitecture.Rich</td>\n",
       "      <td>1</td>\n",
       "    </tr>\n",
       "    <tr>\n",
       "      <th>237</th>\n",
       "      <td>r</td>\n",
       "      <td>e</td>\n",
       "      <td>True</td>\n",
       "    </tr>\n",
       "  </tbody>\n",
       "</table>\n",
       "</div>"
      ],
      "text/plain": [
       "          month                    word count\n",
       "228  2018-02-01             programming     1\n",
       "229  2018-02-01                    week     1\n",
       "230  2018-02-01                 Windows     1\n",
       "231  2018-02-01          Supports Linux     1\n",
       "232  2018-02-01     modest enhancements     1\n",
       "233  2018-02-01                binutils     1\n",
       "234  2018-02-01             anysoftware     1\n",
       "235  2018-02-01               inRawhide     1\n",
       "236  2018-02-01  RISCVarchitecture.Rich     1\n",
       "237           r                       e  True"
      ]
     },
     "execution_count": 199,
     "metadata": {},
     "output_type": "execute_result"
    }
   ],
   "source": [
    "monthly_words_df.tail(10)"
   ]
  },
  {
   "cell_type": "markdown",
   "metadata": {},
   "source": [
    "## Step 5: Save results\n",
    "\n"
   ]
  },
  {
   "cell_type": "code",
   "execution_count": 200,
   "metadata": {
    "ExecuteTime": {
     "end_time": "2021-02-22T19:35:45.535306Z",
     "start_time": "2021-02-22T19:35:45.527403Z"
    }
   },
   "outputs": [],
   "source": [
    "new_files = []\n",
    "\n",
    "monthly_words_df.to_csv(\n",
    "    f\"{BASE_PATH}/processed/keywords/watson-nlu-keywords.csv\", header=False\n",
    ")\n",
    "new_files.append(f\"{BASE_PATH}/processed/keywords/watson-nlu-keywords.csv\")"
   ]
  },
  {
   "cell_type": "code",
   "execution_count": 202,
   "metadata": {
    "ExecuteTime": {
     "end_time": "2021-02-22T19:36:29.270770Z",
     "start_time": "2021-02-22T19:36:29.267282Z"
    }
   },
   "outputs": [],
   "source": [
    "if os.getenv(\"RUN_IN_AUTOMATION\"):\n",
    "    utils.upload_files(\n",
    "        (f, f\"processed/keywords/{Path(f).stem}.csv\") for f in new_files\n",
    "    )"
   ]
  },
  {
   "cell_type": "markdown",
   "metadata": {},
   "source": [
    "Copyright © 2019 IBM. This notebook and its source code are released under the terms of the MIT License."
   ]
  }
 ],
 "metadata": {
  "finalized": {
   "timestamp": 1614022847121,
   "trusted": true
  },
  "kernelspec": {
   "display_name": "Python 3",
   "language": "python",
   "name": "python3"
  },
  "language_info": {
   "codemirror_mode": {
    "name": "ipython",
    "version": 3
   },
   "file_extension": ".py",
   "mimetype": "text/x-python",
   "name": "python",
   "nbconvert_exporter": "python",
   "pygments_lexer": "ipython3",
   "version": "3.8.3"
  },
  "requirements": {
   "aliases": {},
   "dev-packages": {},
   "packages": {
    "ibm-cloud-sdk-core": "*",
    "ibm-watson": "*"
   },
   "requires": {
    "python_version": "3.8"
   },
   "sources": [
    {
     "name": "pypi",
     "url": "https://pypi.org/simple",
     "verify_ssl": true
    }
   ]
  },
  "toc": {
   "base_numbering": 1,
   "nav_menu": {},
   "number_sections": true,
   "sideBar": true,
   "skip_h1_title": false,
   "title_cell": "Table of Contents",
   "title_sidebar": "Contents",
   "toc_cell": false,
   "toc_position": {},
   "toc_section_display": true,
   "toc_window_display": false
  }
 },
 "nbformat": 4,
 "nbformat_minor": 1
}
